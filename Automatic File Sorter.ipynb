{
 "cells": [
  {
   "cell_type": "markdown",
   "id": "a16687d9-f967-4031-8747-bcf2d305b411",
   "metadata": {},
   "source": [
    "## Automatic File Sorter In File Explorer"
   ]
  },
  {
   "cell_type": "code",
   "execution_count": 26,
   "id": "3ba4c9d8-4477-4c0d-acd2-c4dbc1ac4bbf",
   "metadata": {},
   "outputs": [],
   "source": [
    "import os, shutil"
   ]
  },
  {
   "cell_type": "code",
   "execution_count": 27,
   "id": "df18718e-e69c-4a95-b99f-29d1a5f225a1",
   "metadata": {},
   "outputs": [],
   "source": [
    "path = r\"C:/Users/shikha alva/Downloads/Auto File Sorter Project/\""
   ]
  },
  {
   "cell_type": "code",
   "execution_count": 28,
   "id": "dffac887-6c0b-4cfc-9982-e38e18d88788",
   "metadata": {},
   "outputs": [
    {
     "data": {
      "text/plain": [
       "['Breast Cancer METABRIC.csv',\n",
       " 'Description.txt',\n",
       " 'download (86).jpeg',\n",
       " 'Formula Excel Template.xlsx']"
      ]
     },
     "execution_count": 28,
     "metadata": {},
     "output_type": "execute_result"
    }
   ],
   "source": [
    "file_name = os.listdir(path)\n",
    "file_name"
   ]
  },
  {
   "cell_type": "code",
   "execution_count": 29,
   "id": "58cda1ad-f57e-454e-8775-4c6668fde57b",
   "metadata": {},
   "outputs": [
    {
     "data": {
      "text/plain": [
       "False"
      ]
     },
     "execution_count": 29,
     "metadata": {},
     "output_type": "execute_result"
    }
   ],
   "source": [
    "os.path.exists(path + \"csv files\")\n"
   ]
  },
  {
   "cell_type": "code",
   "execution_count": 32,
   "id": "449c1ce1-005d-445b-a78a-6c4f29ca5106",
   "metadata": {},
   "outputs": [],
   "source": [
    "folder_names = [\"csv files\" , \"txt files\" , \"jpeg files\" , \"xlsx files\"]\n",
    "\n",
    "for loop in range(0,4):\n",
    "    if not os.path.exists(path + folder_names[loop]):\n",
    "        print(path + folder_names[loop])\n",
    "        os.makedirs(path + folder_names[loop])\n",
    "\n",
    "for file in file_name:\n",
    "    if \".csv\" in file and not os.path.exists(path + \"csv files/\" + file):\n",
    "        shutil.move(path + file,path + \"csv files/\" + file)\n",
    "    elif \".txt\" in file and not os.path.exists(path + \"txt files/\" + file):\n",
    "        shutil.move(path + file,path + \"txt files/\" + file)\n",
    "    elif \".jpeg\" in file and not os.path.exists(path + \"jpeg files/\" + file):\n",
    "        shutil.move(path + file,path + \"jpeg files/\" + file)\n",
    "    elif \".xlsx\" in file and not os.path.exists(path + \"xlsx files/\" + file):\n",
    "        shutil.move(path + file,path + \"xlsx files/\" + file)"
   ]
  },
  {
   "cell_type": "code",
   "execution_count": null,
   "id": "ed0c9896-11ca-426e-94d6-48ff774431cc",
   "metadata": {},
   "outputs": [],
   "source": []
  }
 ],
 "metadata": {
  "kernelspec": {
   "display_name": "Python 3 (ipykernel)",
   "language": "python",
   "name": "python3"
  },
  "language_info": {
   "codemirror_mode": {
    "name": "ipython",
    "version": 3
   },
   "file_extension": ".py",
   "mimetype": "text/x-python",
   "name": "python",
   "nbconvert_exporter": "python",
   "pygments_lexer": "ipython3",
   "version": "3.12.7"
  }
 },
 "nbformat": 4,
 "nbformat_minor": 5
}
